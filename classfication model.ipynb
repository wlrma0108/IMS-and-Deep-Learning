{
 "cells": [
  {
   "cell_type": "code",
   "execution_count": null,
   "metadata": {},
   "outputs": [
    {
     "name": "stdout",
     "output_type": "stream",
     "text": [
      "Requirement already satisfied: segmentation_models_pytorch in c:\\users\\kim\\appdata\\local\\programs\\python\\python313\\lib\\site-packages (0.4.0)\n",
      "Requirement already satisfied: efficientnet-pytorch>=0.6.1 in c:\\users\\kim\\appdata\\local\\programs\\python\\python313\\lib\\site-packages (from segmentation_models_pytorch) (0.7.1)\n",
      "Requirement already satisfied: huggingface-hub>=0.24 in c:\\users\\kim\\appdata\\local\\programs\\python\\python313\\lib\\site-packages (from segmentation_models_pytorch) (0.29.3)\n",
      "Requirement already satisfied: numpy>=1.19.3 in c:\\users\\kim\\appdata\\local\\programs\\python\\python313\\lib\\site-packages (from segmentation_models_pytorch) (2.2.4)\n",
      "Requirement already satisfied: pillow>=8 in c:\\users\\kim\\appdata\\local\\programs\\python\\python313\\lib\\site-packages (from segmentation_models_pytorch) (11.1.0)\n",
      "Requirement already satisfied: pretrainedmodels>=0.7.1 in c:\\users\\kim\\appdata\\local\\programs\\python\\python313\\lib\\site-packages (from segmentation_models_pytorch) (0.7.4)\n",
      "Requirement already satisfied: six>=1.5 in c:\\users\\kim\\appdata\\roaming\\python\\python313\\site-packages (from segmentation_models_pytorch) (1.17.0)\n",
      "Requirement already satisfied: timm>=0.9 in c:\\users\\kim\\appdata\\local\\programs\\python\\python313\\lib\\site-packages (from segmentation_models_pytorch) (1.0.15)\n",
      "Requirement already satisfied: torch>=1.8 in c:\\users\\kim\\appdata\\local\\programs\\python\\python313\\lib\\site-packages (from segmentation_models_pytorch) (2.6.0)\n",
      "Requirement already satisfied: torchvision>=0.9 in c:\\users\\kim\\appdata\\local\\programs\\python\\python313\\lib\\site-packages (from segmentation_models_pytorch) (0.21.0)\n",
      "Requirement already satisfied: tqdm>=4.42.1 in c:\\users\\kim\\appdata\\local\\programs\\python\\python313\\lib\\site-packages (from segmentation_models_pytorch) (4.67.1)\n",
      "Requirement already satisfied: filelock in c:\\users\\kim\\appdata\\local\\programs\\python\\python313\\lib\\site-packages (from huggingface-hub>=0.24->segmentation_models_pytorch) (3.18.0)\n",
      "Requirement already satisfied: fsspec>=2023.5.0 in c:\\users\\kim\\appdata\\local\\programs\\python\\python313\\lib\\site-packages (from huggingface-hub>=0.24->segmentation_models_pytorch) (2025.3.0)\n",
      "Requirement already satisfied: packaging>=20.9 in c:\\users\\kim\\appdata\\roaming\\python\\python313\\site-packages (from huggingface-hub>=0.24->segmentation_models_pytorch) (24.2)\n",
      "Requirement already satisfied: pyyaml>=5.1 in c:\\users\\kim\\appdata\\local\\programs\\python\\python313\\lib\\site-packages (from huggingface-hub>=0.24->segmentation_models_pytorch) (6.0.2)\n",
      "Requirement already satisfied: requests in c:\\users\\kim\\appdata\\local\\programs\\python\\python313\\lib\\site-packages (from huggingface-hub>=0.24->segmentation_models_pytorch) (2.32.3)\n",
      "Requirement already satisfied: typing-extensions>=3.7.4.3 in c:\\users\\kim\\appdata\\local\\programs\\python\\python313\\lib\\site-packages (from huggingface-hub>=0.24->segmentation_models_pytorch) (4.12.2)\n",
      "Requirement already satisfied: munch in c:\\users\\kim\\appdata\\local\\programs\\python\\python313\\lib\\site-packages (from pretrainedmodels>=0.7.1->segmentation_models_pytorch) (4.0.0)\n",
      "Requirement already satisfied: safetensors in c:\\users\\kim\\appdata\\local\\programs\\python\\python313\\lib\\site-packages (from timm>=0.9->segmentation_models_pytorch) (0.5.3)\n",
      "Requirement already satisfied: networkx in c:\\users\\kim\\appdata\\local\\programs\\python\\python313\\lib\\site-packages (from torch>=1.8->segmentation_models_pytorch) (3.4.2)\n",
      "Requirement already satisfied: jinja2 in c:\\users\\kim\\appdata\\local\\programs\\python\\python313\\lib\\site-packages (from torch>=1.8->segmentation_models_pytorch) (3.1.6)\n",
      "Requirement already satisfied: setuptools in c:\\users\\kim\\appdata\\local\\programs\\python\\python313\\lib\\site-packages (from torch>=1.8->segmentation_models_pytorch) (76.0.0)\n",
      "Requirement already satisfied: sympy==1.13.1 in c:\\users\\kim\\appdata\\local\\programs\\python\\python313\\lib\\site-packages (from torch>=1.8->segmentation_models_pytorch) (1.13.1)\n",
      "Requirement already satisfied: mpmath<1.4,>=1.1.0 in c:\\users\\kim\\appdata\\local\\programs\\python\\python313\\lib\\site-packages (from sympy==1.13.1->torch>=1.8->segmentation_models_pytorch) (1.3.0)\n",
      "Requirement already satisfied: colorama in c:\\users\\kim\\appdata\\roaming\\python\\python313\\site-packages (from tqdm>=4.42.1->segmentation_models_pytorch) (0.4.6)\n",
      "Requirement already satisfied: MarkupSafe>=2.0 in c:\\users\\kim\\appdata\\local\\programs\\python\\python313\\lib\\site-packages (from jinja2->torch>=1.8->segmentation_models_pytorch) (3.0.2)\n",
      "Requirement already satisfied: charset-normalizer<4,>=2 in c:\\users\\kim\\appdata\\local\\programs\\python\\python313\\lib\\site-packages (from requests->huggingface-hub>=0.24->segmentation_models_pytorch) (3.4.1)\n",
      "Requirement already satisfied: idna<4,>=2.5 in c:\\users\\kim\\appdata\\local\\programs\\python\\python313\\lib\\site-packages (from requests->huggingface-hub>=0.24->segmentation_models_pytorch) (3.10)\n",
      "Requirement already satisfied: urllib3<3,>=1.21.1 in c:\\users\\kim\\appdata\\local\\programs\\python\\python313\\lib\\site-packages (from requests->huggingface-hub>=0.24->segmentation_models_pytorch) (2.3.0)\n",
      "Requirement already satisfied: certifi>=2017.4.17 in c:\\users\\kim\\appdata\\local\\programs\\python\\python313\\lib\\site-packages (from requests->huggingface-hub>=0.24->segmentation_models_pytorch) (2025.1.31)\n",
      "Note: you may need to restart the kernel to use updated packages.\n"
     ]
    },
    {
     "name": "stderr",
     "output_type": "stream",
     "text": [
      "\n",
      "[notice] A new release of pip is available: 24.3.1 -> 25.0.1\n",
      "[notice] To update, run: python.exe -m pip install --upgrade pip\n"
     ]
    }
   ],
   "source": []
  },
  {
   "cell_type": "code",
   "execution_count": 5,
   "metadata": {},
   "outputs": [
    {
     "name": "stderr",
     "output_type": "stream",
     "text": [
      "Matplotlib is building the font cache; this may take a moment.\n"
     ]
    }
   ],
   "source": [
    "import numpy as np \n",
    "import pandas as pd \n",
    "import matplotlib.pyplot as plt"
   ]
  },
  {
   "cell_type": "code",
   "execution_count": null,
   "metadata": {},
   "outputs": [],
   "source": []
  }
 ],
 "metadata": {
  "kernelspec": {
   "display_name": "Python 3",
   "language": "python",
   "name": "python3"
  },
  "language_info": {
   "codemirror_mode": {
    "name": "ipython",
    "version": 3
   },
   "file_extension": ".py",
   "mimetype": "text/x-python",
   "name": "python",
   "nbconvert_exporter": "python",
   "pygments_lexer": "ipython3",
   "version": "3.13.2"
  }
 },
 "nbformat": 4,
 "nbformat_minor": 2
}
